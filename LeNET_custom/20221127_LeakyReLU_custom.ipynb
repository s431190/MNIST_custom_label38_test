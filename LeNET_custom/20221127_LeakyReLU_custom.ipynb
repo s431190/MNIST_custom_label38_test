{
 "cells": [
  {
   "cell_type": "code",
   "execution_count": 1,
   "id": "a2368233",
   "metadata": {},
   "outputs": [],
   "source": [
    "import numpy as np\n",
    "import torch\n",
    "from torch import nn\n",
    "from torchvision import datasets\n",
    "from torchvision import transforms\n",
    "from torch.utils.data import DataLoader"
   ]
  },
  {
   "cell_type": "code",
   "execution_count": 2,
   "id": "03b8e5ba",
   "metadata": {},
   "outputs": [],
   "source": [
    "# 固定亂數種子\n",
    "torch.manual_seed(1)\n",
    "torch.cuda.manual_seed_all(1)"
   ]
  },
  {
   "cell_type": "code",
   "execution_count": 3,
   "id": "b5d58e68",
   "metadata": {},
   "outputs": [],
   "source": [
    "# 數據預處理\n",
    "transform = transforms.Compose([\n",
    "#     transforms.RandomResizedCrop(224),# 對圖像進行隨機裁減\n",
    "#     transforms.RandomRotation(20),# 對圖像進行隨機旋轉\n",
    "#     transforms.RandomHorizontalFlip(p=0.5),# 對圖像進行隨機水平翻轉\n",
    "    transforms.Grayscale(num_output_channels=1),# 彩色圖像轉灰度圖像num_output_channels默認1\n",
    "    transforms.ToTensor()# 變成tensor格式\n",
    "]) # 數據增強\n",
    "\n",
    "# 讀取數據\n",
    "root = \"./data/MNIST\"\n",
    "train_data = datasets.ImageFolder(root + \"/train\",transform)\n",
    "test_data = datasets.ImageFolder(root + \"/test\",transform)"
   ]
  },
  {
   "cell_type": "code",
   "execution_count": 4,
   "id": "d310f1a1",
   "metadata": {},
   "outputs": [],
   "source": [
    "batch_size = 256\n",
    "train_dataloader = DataLoader(dataset=train_data, batch_size=batch_size, shuffle=True)\n",
    "test_dataloader = DataLoader(dataset=test_data, batch_size=batch_size, shuffle=True)"
   ]
  },
  {
   "cell_type": "code",
   "execution_count": 5,
   "id": "9b395380",
   "metadata": {},
   "outputs": [
    {
     "name": "stdout",
     "output_type": "stream",
     "text": [
      "['0', '1', '2', '3', '4', '5', '6', '7', '8', '9']\n",
      "{'0': 0, '1': 1, '2': 2, '3': 3, '4': 4, '5': 5, '6': 6, '7': 7, '8': 8, '9': 9}\n"
     ]
    }
   ],
   "source": [
    "classes = train_data.classes\n",
    "classes_index = train_data.class_to_idx\n",
    "print(classes)\n",
    "print(classes_index)"
   ]
  },
  {
   "cell_type": "code",
   "execution_count": 6,
   "id": "a8a98a15",
   "metadata": {},
   "outputs": [
    {
     "name": "stdout",
     "output_type": "stream",
     "text": [
      "Using cuda device\n"
     ]
    }
   ],
   "source": [
    "# 測試CUDA能否使用\n",
    "device = \"cuda\" if torch.cuda.is_available() else \"cpu\"\n",
    "print(f\"Using {device} device\")"
   ]
  },
  {
   "cell_type": "code",
   "execution_count": 7,
   "id": "ea1c9da4",
   "metadata": {},
   "outputs": [
    {
     "name": "stdout",
     "output_type": "stream",
     "text": [
      "Shape of X [N, C, H, W]: torch.Size([256, 1, 28, 28])\n",
      "Shape of y: torch.Size([256]) torch.int64\n"
     ]
    }
   ],
   "source": [
    "# 轉換成CUDA能讀的格式\n",
    "# generate data in parallel with PyTorch\n",
    "for X, y in test_dataloader:\n",
    "    print(f\"Shape of X [N, C, H, W]: {X.shape}\")\n",
    "    print(f\"Shape of y: {y.shape} {y.dtype}\")\n",
    "    break"
   ]
  },
  {
   "cell_type": "code",
   "execution_count": 8,
   "id": "9d9389fc",
   "metadata": {},
   "outputs": [],
   "source": [
    "# 定義網路結構\n",
    "class Net(nn.Module):\n",
    "    def __init__(self):\n",
    "        super(Net,self).__init__()# 初始化\n",
    "        # nn.Conv2d(1,32,5,1,2): 通道數，輸出，捲積，步長，在圖片旁邊補0(幾圈)，激勵函數，最大池化2*2\n",
    "        self.conv1 = nn.Sequential(nn.Conv2d(1,32,5,1,2),nn.ReLU(),nn.MaxPool2d(2,2))\n",
    "        self.conv2 = nn.Sequential(nn.Conv2d(32,64,5,1,2),nn.ReLU(),nn.MaxPool2d(2,2))\n",
    "        self.fc1 = nn.Sequential(nn.Linear(64*7*7,500),nn.Dropout(p=0.5),nn.LeakyReLU()) #64個特徵圖 大小7*7  輸出500個特徵圖\n",
    "        self.fc2 = nn.Sequential(nn.Linear(500,10),nn.Softmax(dim=1)) # 輸出10類 [0~9}\n",
    "        \n",
    "    def forward(self,x):\n",
    "         # torch.Size([64, 1, 28, 28]) # 捲積中需要傳入4維 批次大小 圖像通道數 圖片大小\n",
    "        x = self.conv1(x)\n",
    "        x = self.conv2(x)\n",
    "        # torch.Size([64, 1, 28, 28]) -> (64,784)\n",
    "        x = x.view(x.size()[0],-1) # 4維變2維（在全連接層做計算只能2維）\n",
    "        x = self.fc1(x)\n",
    "        x = self.fc2(x)\n",
    "        return x\n"
   ]
  },
  {
   "cell_type": "code",
   "execution_count": 9,
   "id": "4eb79a6d",
   "metadata": {},
   "outputs": [
    {
     "data": {
      "text/plain": [
       "Net(\n",
       "  (conv1): Sequential(\n",
       "    (0): Conv2d(1, 32, kernel_size=(5, 5), stride=(1, 1), padding=(2, 2))\n",
       "    (1): ReLU()\n",
       "    (2): MaxPool2d(kernel_size=2, stride=2, padding=0, dilation=1, ceil_mode=False)\n",
       "  )\n",
       "  (conv2): Sequential(\n",
       "    (0): Conv2d(32, 64, kernel_size=(5, 5), stride=(1, 1), padding=(2, 2))\n",
       "    (1): ReLU()\n",
       "    (2): MaxPool2d(kernel_size=2, stride=2, padding=0, dilation=1, ceil_mode=False)\n",
       "  )\n",
       "  (fc1): Sequential(\n",
       "    (0): Linear(in_features=3136, out_features=500, bias=True)\n",
       "    (1): Dropout(p=0.5, inplace=False)\n",
       "    (2): LeakyReLU(negative_slope=0.01)\n",
       "  )\n",
       "  (fc2): Sequential(\n",
       "    (0): Linear(in_features=500, out_features=10, bias=True)\n",
       "    (1): Softmax(dim=1)\n",
       "  )\n",
       ")"
      ]
     },
     "execution_count": 9,
     "metadata": {},
     "output_type": "execute_result"
    }
   ],
   "source": [
    "model = Net().to(device)\n",
    "model"
   ]
  },
  {
   "cell_type": "code",
   "execution_count": 10,
   "id": "9425cc07",
   "metadata": {},
   "outputs": [],
   "source": [
    "loss_fn = nn.CrossEntropyLoss()\n",
    "optimizer = torch.optim.Adam(model.parameters())\n",
    " \n",
    "def train(dataloader, model, loss_fn, optimizer):\n",
    "    size = len(dataloader.dataset)\n",
    "    model.train()\n",
    "    for batch, (X, y) in enumerate(dataloader):\n",
    "        X, y = X.to(device), y.to(device)\n",
    " \n",
    "        # Compute prediction error\n",
    "        pred = model(X)\n",
    "        loss = loss_fn(pred, y)\n",
    " \n",
    "        # Backpropagation\n",
    "        optimizer.zero_grad()\n",
    "        loss.backward()\n",
    "        optimizer.step()\n",
    " \n",
    "        if batch % 100 == 0:\n",
    "            loss, current = loss.item(), batch * len(X)\n",
    "            print(f\"loss: {loss:>7f}  [{current:>5d}/{size:>5d}]\")\n",
    " \n",
    " \n",
    "def test(dataloader, model, loss_fn):\n",
    "    size = len(dataloader.dataset)\n",
    "    num_batches = len(dataloader)\n",
    "    model.eval()\n",
    "    test_loss, correct = 0, 0\n",
    "    with torch.no_grad():\n",
    "        for X, y in dataloader:\n",
    "            X, y = X.to(device), y.to(device)\n",
    "            pred = model(X)\n",
    "            test_loss += loss_fn(pred, y).item()\n",
    "            correct += (pred.argmax(1) == y).type(torch.float).sum().item()\n",
    "    test_loss /= num_batches\n",
    "    correct /= size\n",
    "    print(f\"Test Error: \\n Accuracy: {(100*correct):>0.1f}%, Avg loss: {test_loss:>8f} \\n\")"
   ]
  },
  {
   "cell_type": "code",
   "execution_count": 11,
   "id": "e742f5cc",
   "metadata": {},
   "outputs": [
    {
     "name": "stdout",
     "output_type": "stream",
     "text": [
      "Epoch 1\n",
      "-------------------------------\n",
      "loss: 2.301854  [    0/49218]\n",
      "loss: 1.525366  [25600/49218]\n",
      "Test Error: \n",
      " Accuracy: 78.8%, Avg loss: 1.671429 \n",
      "\n",
      "Epoch 2\n",
      "-------------------------------\n",
      "loss: 1.512967  [    0/49218]\n",
      "loss: 1.507296  [25600/49218]\n",
      "Test Error: \n",
      " Accuracy: 86.1%, Avg loss: 1.604182 \n",
      "\n",
      "Epoch 3\n",
      "-------------------------------\n",
      "loss: 1.495393  [    0/49218]\n",
      "loss: 1.485021  [25600/49218]\n",
      "Test Error: \n",
      " Accuracy: 87.9%, Avg loss: 1.579106 \n",
      "\n",
      "Epoch 4\n",
      "-------------------------------\n",
      "loss: 1.471376  [    0/49218]\n",
      "loss: 1.478519  [25600/49218]\n",
      "Test Error: \n",
      " Accuracy: 87.9%, Avg loss: 1.581439 \n",
      "\n",
      "Epoch 5\n",
      "-------------------------------\n",
      "loss: 1.476471  [    0/49218]\n",
      "loss: 1.482946  [25600/49218]\n",
      "Test Error: \n",
      " Accuracy: 88.0%, Avg loss: 1.578963 \n",
      "\n",
      "Epoch 6\n",
      "-------------------------------\n",
      "loss: 1.473241  [    0/49218]\n",
      "loss: 1.486332  [25600/49218]\n",
      "Test Error: \n",
      " Accuracy: 88.0%, Avg loss: 1.579117 \n",
      "\n",
      "Epoch 7\n",
      "-------------------------------\n",
      "loss: 1.484157  [    0/49218]\n",
      "loss: 1.492585  [25600/49218]\n",
      "Test Error: \n",
      " Accuracy: 88.9%, Avg loss: 1.570407 \n",
      "\n",
      "Epoch 8\n",
      "-------------------------------\n",
      "loss: 1.481002  [    0/49218]\n",
      "loss: 1.478235  [25600/49218]\n",
      "Test Error: \n",
      " Accuracy: 88.7%, Avg loss: 1.572571 \n",
      "\n",
      "Epoch 9\n",
      "-------------------------------\n",
      "loss: 1.469508  [    0/49218]\n",
      "loss: 1.481398  [25600/49218]\n",
      "Test Error: \n",
      " Accuracy: 88.7%, Avg loss: 1.571087 \n",
      "\n",
      "Epoch 10\n",
      "-------------------------------\n",
      "loss: 1.469022  [    0/49218]\n",
      "loss: 1.486392  [25600/49218]\n",
      "Test Error: \n",
      " Accuracy: 88.7%, Avg loss: 1.576107 \n",
      "\n",
      "Done!\n"
     ]
    }
   ],
   "source": [
    "epochs = 10\n",
    "for t in range(epochs):\n",
    "    print(f\"Epoch {t+1}\\n-------------------------------\")\n",
    "    train(train_dataloader, model, loss_fn, optimizer)\n",
    "    test(test_dataloader, model, loss_fn)\n",
    "print(\"Done!\")\n",
    "torch.save(model.state_dict(),\"MNIST38_LR.pth\") # 保存模型"
   ]
  },
  {
   "cell_type": "code",
   "execution_count": null,
   "id": "3239937e",
   "metadata": {},
   "outputs": [],
   "source": []
  }
 ],
 "metadata": {
  "kernelspec": {
   "display_name": "Python 3 (ipykernel)",
   "language": "python",
   "name": "python3"
  },
  "language_info": {
   "codemirror_mode": {
    "name": "ipython",
    "version": 3
   },
   "file_extension": ".py",
   "mimetype": "text/x-python",
   "name": "python",
   "nbconvert_exporter": "python",
   "pygments_lexer": "ipython3",
   "version": "3.8.15"
  }
 },
 "nbformat": 4,
 "nbformat_minor": 5
}
